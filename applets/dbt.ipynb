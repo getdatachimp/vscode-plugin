{
 "cells": [
  {
   "cell_type": "code",
   "execution_count": 2,
   "metadata": {
    "tags": [
     "dchimp.ignore"
    ]
   },
   "outputs": [],
   "source": [
    "code = \"\"\"\n",
    "%%sql\n",
    "SELECT * FROM customers\n",
    "LIMIT 1000\n",
    "\"\"\""
   ]
  },
  {
   "cell_type": "code",
   "execution_count": 6,
   "metadata": {},
   "outputs": [
    {
     "data": {
      "text/plain": [
       "'\\n  Model: customers\\n  Description: One record per customer\\n  Generated At: 2022-12-05T19:11:58.005Z\\n  Columns: \\n    Name: customer_id\\n    Description: Primary key\\n    \\n    Name: first_name\\n    \\n    Name: last_name\\n    \\n    Name: first_order_date\\n    Description: NULL when a customer has not yet placed an order.\\n    \\n    Name: most_recent_order_date\\n    \\n    Name: number_of_orders\\n    \\n  '"
      ]
     },
     "execution_count": 6,
     "metadata": {},
     "output_type": "execute_result"
    }
   ],
   "source": [
    "import os\n",
    "from gql import gql, Client\n",
    "from gql.transport.aiohttp import AIOHTTPTransport\n",
    "\n",
    "##################################\n",
    "# Params\n",
    "##################################\n",
    "\n",
    "# Set this to your dbt service account token.\n",
    "# Instructions for creating one of these is here:\n",
    "# https://docs.getdbt.com/docs/dbt-cloud-apis/service-tokens#generating-service-account-tokens\n",
    "token = os.environ['DBT_TOKEN']\n",
    "# Set this to your dbt jobId by viewing the job url in your browser. \n",
    "# In https://cloud.getdbt.com/#/accounts/1/projects/665/jobs/917/, \n",
    "# 917 is the job id\n",
    "jobId = 170565 \n",
    "\n",
    "##################################\n",
    "# Code\n",
    "##################################\n",
    "\n",
    "transport = AIOHTTPTransport(\n",
    "  url=\"https://metadata.cloud.getdbt.com/graphql\", \n",
    "  headers={'Authorization': f'Bearer {token}'}\n",
    ")\n",
    "\n",
    "async def main():\n",
    "  async with Client(\n",
    "    transport=transport, \n",
    "    fetch_schema_from_transport=True\n",
    "  ) as session:\n",
    "\n",
    "    query = gql(f\"\"\"\n",
    "     {{\n",
    "      models(jobId:{jobId}) {{\n",
    "        name\n",
    "        runGeneratedAt\n",
    "        description\n",
    "        columns {{\n",
    "          name\n",
    "          description\n",
    "        }}\n",
    "      }}\n",
    "    }}\n",
    "    \"\"\"\n",
    "    )\n",
    "    result = await session.execute(query)\n",
    "    return result\n",
    "\n",
    "def buildModelBlock(model):\n",
    "  def buildColumns(model):\n",
    "    return \"\".join([buildColumnBlock(column) for column in model['columns']])\n",
    "  def buildColumnBlock(col):\n",
    "    nl = '\\n'\n",
    "    return f\"\"\"\n",
    "    Name: {col['name']}{f\"{nl}    Description: {col['description']}\" if col['description'] else \"\"}\n",
    "    \"\"\"\n",
    "  return f\"\"\"\n",
    "  Model: {model['name']}\n",
    "  Description: {model['description']}\n",
    "  Generated At: {model['runGeneratedAt']}\n",
    "  Columns: {buildColumns(model)}\n",
    "  \"\"\" \n",
    "\n",
    "models = await main()\n",
    "models['models']\n",
    "'\\n\\n'.join([buildModelBlock(model) for model in models['models'] if model['name'] in code])"
   ]
  }
 ],
 "metadata": {
  "kernelspec": {
   "display_name": "Python 3.10.7 64-bit",
   "language": "python",
   "name": "python3"
  },
  "language_info": {
   "codemirror_mode": {
    "name": "ipython",
    "version": 3
   },
   "file_extension": ".py",
   "mimetype": "text/x-python",
   "name": "python",
   "nbconvert_exporter": "python",
   "pygments_lexer": "ipython3",
   "version": "3.10.7"
  },
  "orig_nbformat": 4,
  "vscode": {
   "interpreter": {
    "hash": "aee8b7b246df8f9039afb4144a1f6fd8d2ca17a180786b69acc140d282b71a49"
   }
  }
 },
 "nbformat": 4,
 "nbformat_minor": 2
}
